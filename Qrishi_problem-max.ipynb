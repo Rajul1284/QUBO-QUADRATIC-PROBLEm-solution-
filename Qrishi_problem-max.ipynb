{
 "cells": [
  {
   "cell_type": "markdown",
   "id": "508e8811-826b-4f26-8294-a19a909260c2",
   "metadata": {},
   "source": [
    "Given Problem \n",
    "\n",
    "y = -5*x1 – 3*x2 – 8*x3 – 6*x4 + 4*x1*x2 + 8*x1*x3 + 2*x2*x3 + 10*x3*x4\n",
    "\n",
    "Solution: \n",
    "Events ASsignment Problem\n",
    "Events:P1,P2 ,P3 ,P4\n",
    "\n",
    "\n",
    "Student: S1,S2 S3,S4\n",
    "Preferences:\n",
    "\n",
    "S1 want to solve P1and P2.\n",
    "S2 want to solve P1 and P3.\n",
    "S3 want to solve P2 and P3.\n",
    "S4 want to solve P3 and P3\n",
    "Binary variables:\n",
    "\n",
    "xi= 0 if the i-th event whithn 2 days \n",
    "xi= 1 if the i-th event more than 2 days\n",
    "\n",
    "Changes variable \n",
    "x= (1-z1)/2 \n",
    "\n",
    "Zi=  1  if the i-th event within 2 days \n",
    "Zi= -1 if the i-th event is more than 2 days \n",
    "\n",
    "after puttining Zi in y we get,\n",
    "\n",
    "y= -5 -0.5*z1 + z3 - 0.5*z4 +z1*z2 +2*z1*z3 + 0.5*z2*z3 + 2.5*z3*z4\n",
    "\n"
   ]
  },
  {
   "cell_type": "code",
   "execution_count": null,
   "id": "9c799fbb-3de7-4615-aa98-9a389b4e19a5",
   "metadata": {},
   "outputs": [],
   "source": []
  },
  {
   "cell_type": "code",
   "execution_count": 62,
   "id": "b98b40e1-298c-4354-be98-52b8f77929b9",
   "metadata": {},
   "outputs": [
    {
     "name": "stdout",
     "output_type": "stream",
     "text": [
      "  (-5) [I1]\n",
      "+ (-0.5) [Z1]\n",
      "+ (-0.5) [Z4]\n",
      "+ (1) [Z3]\n",
      "+ (0.5) [Z2 Z3]\n",
      "+ (1) [Z1 Z2]\n",
      "+ (2) [Z1 Z3]\n",
      "+ (2.5) [Z3 Z4]\n"
     ]
    }
   ],
   "source": [
    "\n",
    "import pennylane as qml\n",
    "from pennylane import numpy as np\n",
    "import pennylane as qml\n",
    "\n",
    "H = qml.Hamiltonian(\n",
    "    [-5, -0.5, 1, -0.5, 1, 2, 0.5, 2.5 ],\n",
    "    [qml.Identity(1) , qml.PauliZ(1), qml.PauliZ(3), \n",
    "    qml.PauliZ(4), qml.PauliZ(1)@qml.PauliZ(2), qml.PauliZ(1)@qml.PauliZ(3),\n",
    "    qml.PauliZ(2)@qml.PauliZ(3), qml.PauliZ(3)@qml.PauliZ(4)])\n",
    "print(H)"
   ]
  },
  {
   "cell_type": "code",
   "execution_count": 63,
   "id": "92e9fa3d-4670-41d9-b283-01398e0444e2",
   "metadata": {},
   "outputs": [
    {
     "data": {
      "text/plain": [
       "tensor(1., requires_grad=True)"
      ]
     },
     "execution_count": 63,
     "metadata": {},
     "output_type": "execute_result"
    }
   ],
   "source": [
    "rajul = qml.device(\"default.qubit\", wires = H.wires) #device = rajul\n",
    "\n",
    "@qml.qnode(rajul)  # define q nodes i.e our circuit is going to be run in this decive \n",
    "def circuit(sharma):      # creat circuit  and add given parameters= sharma\n",
    "    \n",
    "    for param, wire in zip(sharma, H.wires):\n",
    "        qml.RY(param, wires = wire) #modify in rotation ove y axis because this is a perticular good gate ( for real no.)\n",
    "        \n",
    "    return qml.expval(H)\n",
    "\n",
    "circuit([0,0,0,0]) # guess our congiguration is going to be 0000 i.e all student solve the problem within 2 days "
   ]
  },
  {
   "cell_type": "code",
   "execution_count": 64,
   "id": "bc856430-72fc-4d13-82bf-4ee679dc21d8",
   "metadata": {
    "tags": []
   },
   "outputs": [
    {
     "data": {
      "text/plain": [
       "tensor(-12., requires_grad=True)"
      ]
     },
     "execution_count": 64,
     "metadata": {},
     "output_type": "execute_result"
    }
   ],
   "source": [
    "sharma = np.random.rand(len(H.wires))  #parameter= sharma\n",
    "opt = qml.AdagradOptimizer(stepsize = 0.5)\n",
    "epochs = 200\n",
    "\n",
    "for epoch in range(epochs):\n",
    "    sharma = opt.step(circuit,sharma)\n",
    "    \n",
    "circuit(sharma)"
   ]
  },
  {
   "cell_type": "code",
   "execution_count": 65,
   "id": "23ac2a43-4110-4eb4-b7af-f2888ba724d1",
   "metadata": {},
   "outputs": [
    {
     "data": {
      "text/plain": [
       "tensor([[0, 0, 0, 0],\n",
       "        [1, 1, 1, 1],\n",
       "        [1, 1, 1, 1],\n",
       "        [0, 0, 0, 0]], requires_grad=True)"
      ]
     },
     "execution_count": 65,
     "metadata": {},
     "output_type": "execute_result"
    }
   ],
   "source": [
    "rajul = qml.device(\"default.qubit\", wires = H.wires, shots = 1)\n",
    "\n",
    "@qml.qnode(rajul)\n",
    "def circuit(sharma):\n",
    "    \n",
    "    for param, wire in zip(sharma, H.wires):\n",
    "        qml.RY(sharma, wires = wire)\n",
    "        \n",
    "    return qml.sample()\n",
    "\n",
    "circuit(sharma)"
   ]
  },
  {
   "cell_type": "code",
   "execution_count": null,
   "id": "e872d038-ce49-4e9a-bac6-4b7588104349",
   "metadata": {},
   "outputs": [],
   "source": []
  }
 ],
 "metadata": {
  "kernelspec": {
   "display_name": "PennyLane",
   "language": "python",
   "name": "pennylane"
  },
  "language_info": {
   "codemirror_mode": {
    "name": "ipython",
    "version": 3
   },
   "file_extension": ".py",
   "mimetype": "text/x-python",
   "name": "python",
   "nbconvert_exporter": "python",
   "pygments_lexer": "ipython3",
   "version": "3.9.13"
  }
 },
 "nbformat": 4,
 "nbformat_minor": 5
}
